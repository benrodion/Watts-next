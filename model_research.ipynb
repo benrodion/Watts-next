{
 "cells": [
  {
   "cell_type": "markdown",
   "metadata": {},
   "source": [
    "# Model Research \n",
    "\n",
    "In this Jupyter notebook, we will share our research on the different models we will be using, namely:  \n",
    "- SARIMAX  \n",
    "- LSTM   \n",
    "- Random Forest  \n",
    "- XGBOOST  \n",
    "\n",
    "This entails the following points:  \n",
    "- **Data preprocessing:** how does the data need to be processed for the various models? Does it need to be **scaled** or **standardized**? Do outliers need to be treated in a particular way?  \n",
    "- **Model specifics:** why are these models suited for working with the kind of data we have (i.e. time series data that exhibits both trends and seasonality and therefore is not stationary)? Which assumptions do these models rely on to perform their analysis? What are their strengths? What are their limitations?"
   ]
  }
 ],
 "metadata": {
  "language_info": {
   "name": "python"
  }
 },
 "nbformat": 4,
 "nbformat_minor": 2
}
