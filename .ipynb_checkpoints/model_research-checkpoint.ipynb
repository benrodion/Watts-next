{
 "cells": [
  {
   "cell_type": "markdown",
   "metadata": {},
   "source": [
    "# Model Research \n",
    "\n",
    "In this Jupyter notebook, we will share our research on the different models we will be using, namely:  \n",
    "- SARIMAX  \n",
    "- LSTM   \n",
    "- Random Forest  \n",
    "- XGBOOST  \n",
    "\n",
    "This entails the following points:  \n",
    "- **Data preprocessing:** how does the data need to be processed for the various models? Does it need to be **scaled** or **standardized**? Do outliers need to be treated in a particular way?  \n",
    "- **Model specifics:** why are these models suited for working with the kind of data we have (i.e. time series data that exhibits both trends and seasonality and therefore is not stationary)? Which assumptions do these models rely on to perform their analysis? What are their strengths? What are their limitations?"
   ]
  },
  {
   "cell_type": "markdown",
   "metadata": {},
   "source": [
    "## SARIMAX"
   ]
  },
  {
   "cell_type": "markdown",
   "metadata": {},
   "source": [
    "## LSTM"
   ]
  },
  {
   "cell_type": "markdown",
   "metadata": {},
   "source": [
    "## Random Forest\n",
    "### Data Preprocessing\n",
    "**Do we need to scale/standardize the data?** \n",
    "Answer from lab 5: \"**You do not need to scale variables before using tree-based methods (e.g., decision trees, random forests, gradient boosting methods like XGBoost, LightGBM, and CatBoost)**. Tree-based models are scale-invariant because they split data based on feature thresholds rather than distance-based calculations. We *can* still scale variables if we want **however, doing so can have benefits for numerical stability in cases where values get very big.**\"  \n",
    "\n",
    "--> I suggest we do it, because although it is not strictly necessary, it does no harm and can enhance numerical stability."
   ]
  },
  {
   "cell_type": "markdown",
   "metadata": {
    "vscode": {
     "languageId": "plaintext"
    }
   },
   "source": [
    "## XGBOOST\n",
    "**Do we need to scale/standardize the data?** \n",
    "XGBoost, like Random Forest, is a tree-based method. Hence, the same reasoning as for Random Forest applies:  \n",
    "--> I suggest we do it, because although it is not strictly necessary, it does no harm and can enhance numerical stability."
   ]
  },
  {
   "cell_type": "markdown",
   "metadata": {},
   "source": []
  }
 ],
 "metadata": {
  "kernelspec": {
   "display_name": "ml_proj",
   "language": "python",
   "name": "python3"
  },
  "language_info": {
   "name": "python",
   "version": "3.11.11"
  }
 },
 "nbformat": 4,
 "nbformat_minor": 2
}
