{
 "cells": [
  {
   "cell_type": "markdown",
   "metadata": {},
   "source": [
    "# Meeting Protocols\n",
    "\n",
    "In this notebook, we protocol our meetings."
   ]
  },
  {
   "cell_type": "markdown",
   "metadata": {},
   "source": [
    "## Meeting 19.03.\n",
    "\n",
    "**Talking Points Ben**:\n",
    "- researched which models require scaled data & which do not\n",
    "- imported data, performed train-test-split (no validation set as we will use cross-validation), scaled the data (except temporal variables)  \n",
    "    - I made a mistake: train-test split obviously needs to be performed differently for time-series analysis \n",
    "- no models built or run\n",
    "    - for SARIMAX, we need to predefine seasonality & I need to figure out how that works\n",
    "    - good book on time-series analysis added to Zotero group library "
   ]
  }
 ],
 "metadata": {
  "language_info": {
   "name": "python"
  }
 },
 "nbformat": 4,
 "nbformat_minor": 2
}
